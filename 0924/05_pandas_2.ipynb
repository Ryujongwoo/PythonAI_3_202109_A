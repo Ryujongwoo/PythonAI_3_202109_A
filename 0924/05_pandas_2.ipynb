{
 "cells": [
  {
   "cell_type": "code",
   "execution_count": 1,
   "id": "63a3b1eb",
   "metadata": {},
   "outputs": [],
   "source": [
    "import warnings\n",
    "warnings.filterwarnings('ignore')\n",
    "from IPython.display import Image\n",
    "import numpy as np\n",
    "import pandas as pd"
   ]
  },
  {
   "cell_type": "markdown",
   "id": "00211224",
   "metadata": {},
   "source": [
    "판다스 데이터프레임과 시리즈  \n",
    "데이터프레임과 시리즈는 리스트, 딕셔너리와 비슷하지만 데이터를 다루는데 더 특화되어 있다.  \n",
    "리스트와 딕셔너리는 많은 양의 데이터를 저장하거나 조작할 수 있는 함수가 많치 않은 반면에 판다스의 데이터프레임과 시리즈는 많은 양을 저장할 수 있을 뿐만 아니라 스프레드시트 프로그램을 사용하는 것 처럼 행과 열 단위로 데이터를 조작할 수 있는 다양한 속성과 함수를 제공한다."
   ]
  },
  {
   "cell_type": "markdown",
   "id": "05d3d392",
   "metadata": {},
   "source": [
    "시리즈 만들기"
   ]
  },
  {
   "cell_type": "code",
   "execution_count": 3,
   "id": "8c05d3fb",
   "metadata": {},
   "outputs": [
    {
     "name": "stdout",
     "output_type": "stream",
     "text": [
      "<class 'pandas.core.series.Series'>\n",
      "0    banana\n",
      "1      2000\n",
      "dtype: object\n"
     ]
    }
   ],
   "source": [
    "s = pd.Series(['banana', 2000])\n",
    "print(type(s))\n",
    "print(s)"
   ]
  },
  {
   "cell_type": "code",
   "execution_count": 5,
   "id": "cfc2bc9e",
   "metadata": {},
   "outputs": [
    {
     "name": "stdout",
     "output_type": "stream",
     "text": [
      "0    홍길동\n",
      "1    이몽룡\n",
      "dtype: object\n",
      "도적넘    홍길동\n",
      "공무원    이몽룡\n",
      "dtype: object\n"
     ]
    }
   ],
   "source": [
    "s = pd.Series(['홍길동', '이몽룡'])\n",
    "print(s)\n",
    "# 시리즈를 생성할 때 문자열을 인덱스로 지정할 수 있다.\n",
    "# 문자열을 인덱스로 지정하려면 Series() 함수의 index 속성에 인덱스로 사용하려는 문자열을 리스트에 담아서 전달하면 된다.\n",
    "s = pd.Series(['홍길동', '이몽룡'], index=['도적넘', '공무원'])\n",
    "print(s)"
   ]
  },
  {
   "cell_type": "markdown",
   "id": "28fefad8",
   "metadata": {},
   "source": [
    "데이터프레임 만들기"
   ]
  },
  {
   "cell_type": "code",
   "execution_count": 6,
   "id": "1e0da020",
   "metadata": {},
   "outputs": [
    {
     "name": "stdout",
     "output_type": "stream",
     "text": [
      "<class 'pandas.core.frame.DataFrame'>\n"
     ]
    },
    {
     "data": {
      "text/html": [
       "<div>\n",
       "<style scoped>\n",
       "    .dataframe tbody tr th:only-of-type {\n",
       "        vertical-align: middle;\n",
       "    }\n",
       "\n",
       "    .dataframe tbody tr th {\n",
       "        vertical-align: top;\n",
       "    }\n",
       "\n",
       "    .dataframe thead th {\n",
       "        text-align: right;\n",
       "    }\n",
       "</style>\n",
       "<table border=\"1\" class=\"dataframe\">\n",
       "  <thead>\n",
       "    <tr style=\"text-align: right;\">\n",
       "      <th></th>\n",
       "      <th>Name</th>\n",
       "      <th>Job</th>\n",
       "      <th>Born</th>\n",
       "      <th>Died</th>\n",
       "      <th>Age</th>\n",
       "    </tr>\n",
       "  </thead>\n",
       "  <tbody>\n",
       "    <tr>\n",
       "      <th>0</th>\n",
       "      <td>홍길동</td>\n",
       "      <td>도둑넘</td>\n",
       "      <td>1920-04-20</td>\n",
       "      <td>1957-08-20</td>\n",
       "      <td>37</td>\n",
       "    </tr>\n",
       "    <tr>\n",
       "      <th>1</th>\n",
       "      <td>임꺽정</td>\n",
       "      <td>도적넘</td>\n",
       "      <td>1875-06-10</td>\n",
       "      <td>1930-12-10</td>\n",
       "      <td>60</td>\n",
       "    </tr>\n",
       "  </tbody>\n",
       "</table>\n",
       "</div>"
      ],
      "text/plain": [
       "  Name  Job        Born        Died  Age\n",
       "0  홍길동  도둑넘  1920-04-20  1957-08-20   37\n",
       "1  임꺽정  도적넘  1875-06-10  1930-12-10   60"
      ]
     },
     "execution_count": 6,
     "metadata": {},
     "output_type": "execute_result"
    }
   ],
   "source": [
    "# 데이터프레임을 만들기 위해서는 딕셔너리를 DataFrame() 함수의 인수로 전달하면 된다.\n",
    "df = pd.DataFrame({\n",
    "    # 'key': [value, value, ...] # key는 데이터프레임의 열 이름이 되고 value가 데이터가 된다.\n",
    "    'Name': ['홍길동', '임꺽정'],\n",
    "    'Job': ['도둑넘', '도적넘'],\n",
    "    'Born': ['1920-04-20', '1875-06-10'],\n",
    "    'Died': ['1957-08-20', '1930-12-10'],\n",
    "    'Age': [37, 60]\n",
    "})\n",
    "print(type(df))\n",
    "df"
   ]
  },
  {
   "cell_type": "code",
   "execution_count": 17,
   "id": "afa3bb8c",
   "metadata": {},
   "outputs": [
    {
     "name": "stdout",
     "output_type": "stream",
     "text": [
      "<class 'pandas.core.frame.DataFrame'>\n"
     ]
    },
    {
     "data": {
      "text/html": [
       "<div>\n",
       "<style scoped>\n",
       "    .dataframe tbody tr th:only-of-type {\n",
       "        vertical-align: middle;\n",
       "    }\n",
       "\n",
       "    .dataframe tbody tr th {\n",
       "        vertical-align: top;\n",
       "    }\n",
       "\n",
       "    .dataframe thead th {\n",
       "        text-align: right;\n",
       "    }\n",
       "</style>\n",
       "<table border=\"1\" class=\"dataframe\">\n",
       "  <thead>\n",
       "    <tr style=\"text-align: right;\">\n",
       "      <th></th>\n",
       "      <th>Job</th>\n",
       "      <th>Age</th>\n",
       "      <th>Born</th>\n",
       "      <th>Died</th>\n",
       "    </tr>\n",
       "  </thead>\n",
       "  <tbody>\n",
       "    <tr>\n",
       "      <th>홍길동</th>\n",
       "      <td>도둑넘</td>\n",
       "      <td>37</td>\n",
       "      <td>1920-04-20</td>\n",
       "      <td>1957-08-20</td>\n",
       "    </tr>\n",
       "    <tr>\n",
       "      <th>임꺽정</th>\n",
       "      <td>도적넘</td>\n",
       "      <td>60</td>\n",
       "      <td>1875-06-10</td>\n",
       "      <td>1930-12-10</td>\n",
       "    </tr>\n",
       "  </tbody>\n",
       "</table>\n",
       "</div>"
      ],
      "text/plain": [
       "     Job  Age        Born        Died\n",
       "홍길동  도둑넘   37  1920-04-20  1957-08-20\n",
       "임꺽정  도적넘   60  1875-06-10  1930-12-10"
      ]
     },
     "execution_count": 17,
     "metadata": {},
     "output_type": "execute_result"
    }
   ],
   "source": [
    "# DataFrame() 함수의 data 속성으로 데이터를 지정하고 index 속성으로 인덱스를 colunms 속성으로 열 이름을 지정할 수 있다.\n",
    "df = pd.DataFrame(\n",
    "    data={\n",
    "        'Job': ['도둑넘', '도적넘'],\n",
    "        'Born': ['1920-04-20', '1875-06-10'],\n",
    "        'Died': ['1957-08-20', '1930-12-10'],\n",
    "        'Age': [37, 60]\n",
    "    },\n",
    "    index=['홍길동', '임꺽정'],\n",
    "    columns=['Job', 'Age', 'Born', 'Died'] # 생략 가능, 생략시 data에 지정한 순서대로 열이 만들어진다.\n",
    ")\n",
    "print(type(df))\n",
    "df"
   ]
  },
  {
   "cell_type": "markdown",
   "id": "341d7aaf",
   "metadata": {},
   "source": [
    "시리즈 다루기"
   ]
  },
  {
   "cell_type": "code",
   "execution_count": 20,
   "id": "29b8190e",
   "metadata": {},
   "outputs": [
    {
     "name": "stdout",
     "output_type": "stream",
     "text": [
      "<class 'pandas.core.series.Series'>\n",
      "Job            도적넘\n",
      "Age             60\n",
      "Born    1875-06-10\n",
      "Died    1930-12-10\n",
      "Name: 임꺽정, dtype: object\n"
     ]
    }
   ],
   "source": [
    "# 데이터프레임에서 시리즈를 선택하려면 loc 속성에 열 이름을 전달하거나 iloc 속성에 인덱스를 전달하면 된다.\n",
    "row = df.loc['임꺽정']\n",
    "print(type(row))\n",
    "print(row)"
   ]
  },
  {
   "cell_type": "markdown",
   "id": "dd02bf5d",
   "metadata": {},
   "source": [
    "index, values 속성과 keys() 함수"
   ]
  },
  {
   "cell_type": "code",
   "execution_count": 30,
   "id": "4962edb7",
   "metadata": {},
   "outputs": [
    {
     "name": "stdout",
     "output_type": "stream",
     "text": [
      "<class 'pandas.core.indexes.base.Index'>\n",
      "Index(['Job', 'Age', 'Born', 'Died'], dtype='object')\n",
      "================================================================================\n",
      "<class 'numpy.ndarray'>\n",
      "['도적넘' 60 '1875-06-10' '1930-12-10']\n",
      "================================================================================\n",
      "<class 'pandas.core.indexes.base.Index'>\n",
      "Index(['Job', 'Age', 'Born', 'Died'], dtype='object')\n",
      "================================================================================\n",
      "Job\n",
      "Job\n",
      "도적넘\n"
     ]
    }
   ],
   "source": [
    "# index 속성은 시리즈의 인덱스를 얻어온다.\n",
    "print(type(row.index))\n",
    "print(row.index)\n",
    "print('=' * 80)\n",
    "# values 속성은 시리즈의 데이터를 얻어온다.\n",
    "print(type(row.values))\n",
    "print(row.values)\n",
    "print('=' * 80)\n",
    "# keys() 함수는 index 속성과 같이 시리즈의 인덱스를 얻어온다.\n",
    "print(type(row.keys()))\n",
    "print(row.keys())\n",
    "print('=' * 80)\n",
    "# index 속성의 첫 번째 값 추출하기\n",
    "print(row.index[0])\n",
    "print(row.keys()[0])\n",
    "# values 속성의 첫 번째 값 출력하기\n",
    "print(row.values[0])"
   ]
  },
  {
   "cell_type": "markdown",
   "id": "c45ae366",
   "metadata": {},
   "source": [
    "시리즈 기초 통계 함수"
   ]
  },
  {
   "cell_type": "code",
   "execution_count": 31,
   "id": "f42ca390",
   "metadata": {},
   "outputs": [
    {
     "name": "stdout",
     "output_type": "stream",
     "text": [
      "<class 'pandas.core.frame.DataFrame'>\n"
     ]
    },
    {
     "data": {
      "text/html": [
       "<div>\n",
       "<style scoped>\n",
       "    .dataframe tbody tr th:only-of-type {\n",
       "        vertical-align: middle;\n",
       "    }\n",
       "\n",
       "    .dataframe tbody tr th {\n",
       "        vertical-align: top;\n",
       "    }\n",
       "\n",
       "    .dataframe thead th {\n",
       "        text-align: right;\n",
       "    }\n",
       "</style>\n",
       "<table border=\"1\" class=\"dataframe\">\n",
       "  <thead>\n",
       "    <tr style=\"text-align: right;\">\n",
       "      <th></th>\n",
       "      <th>Name</th>\n",
       "      <th>Born</th>\n",
       "      <th>Died</th>\n",
       "      <th>Age</th>\n",
       "      <th>Occupation</th>\n",
       "    </tr>\n",
       "  </thead>\n",
       "  <tbody>\n",
       "    <tr>\n",
       "      <th>0</th>\n",
       "      <td>Rosaline Franklin</td>\n",
       "      <td>1920-07-25</td>\n",
       "      <td>1958-04-16</td>\n",
       "      <td>37</td>\n",
       "      <td>Chemist</td>\n",
       "    </tr>\n",
       "    <tr>\n",
       "      <th>1</th>\n",
       "      <td>William Gosset</td>\n",
       "      <td>1876-06-13</td>\n",
       "      <td>1937-10-16</td>\n",
       "      <td>61</td>\n",
       "      <td>Statistician</td>\n",
       "    </tr>\n",
       "    <tr>\n",
       "      <th>2</th>\n",
       "      <td>Florence Nightingale</td>\n",
       "      <td>1820-05-12</td>\n",
       "      <td>1910-08-13</td>\n",
       "      <td>90</td>\n",
       "      <td>Nurse</td>\n",
       "    </tr>\n",
       "    <tr>\n",
       "      <th>3</th>\n",
       "      <td>Marie Curie</td>\n",
       "      <td>1867-11-07</td>\n",
       "      <td>1934-07-04</td>\n",
       "      <td>66</td>\n",
       "      <td>Chemist</td>\n",
       "    </tr>\n",
       "    <tr>\n",
       "      <th>4</th>\n",
       "      <td>Rachel Carson</td>\n",
       "      <td>1907-05-27</td>\n",
       "      <td>1964-04-14</td>\n",
       "      <td>56</td>\n",
       "      <td>Biologist</td>\n",
       "    </tr>\n",
       "    <tr>\n",
       "      <th>5</th>\n",
       "      <td>John Snow</td>\n",
       "      <td>1813-03-15</td>\n",
       "      <td>1858-06-16</td>\n",
       "      <td>45</td>\n",
       "      <td>Physician</td>\n",
       "    </tr>\n",
       "    <tr>\n",
       "      <th>6</th>\n",
       "      <td>Alan Turing</td>\n",
       "      <td>1912-06-23</td>\n",
       "      <td>1954-06-07</td>\n",
       "      <td>41</td>\n",
       "      <td>Computer Scientist</td>\n",
       "    </tr>\n",
       "    <tr>\n",
       "      <th>7</th>\n",
       "      <td>Johann Gauss</td>\n",
       "      <td>1777-04-30</td>\n",
       "      <td>1855-02-23</td>\n",
       "      <td>77</td>\n",
       "      <td>Mathematician</td>\n",
       "    </tr>\n",
       "  </tbody>\n",
       "</table>\n",
       "</div>"
      ],
      "text/plain": [
       "                   Name        Born        Died  Age          Occupation\n",
       "0     Rosaline Franklin  1920-07-25  1958-04-16   37             Chemist\n",
       "1        William Gosset  1876-06-13  1937-10-16   61        Statistician\n",
       "2  Florence Nightingale  1820-05-12  1910-08-13   90               Nurse\n",
       "3           Marie Curie  1867-11-07  1934-07-04   66             Chemist\n",
       "4         Rachel Carson  1907-05-27  1964-04-14   56           Biologist\n",
       "5             John Snow  1813-03-15  1858-06-16   45           Physician\n",
       "6           Alan Turing  1912-06-23  1954-06-07   41  Computer Scientist\n",
       "7          Johann Gauss  1777-04-30  1855-02-23   77       Mathematician"
      ]
     },
     "execution_count": 31,
     "metadata": {},
     "output_type": "execute_result"
    }
   ],
   "source": [
    "scientists = pd.read_csv('./data/scientists.csv')\n",
    "print(type(scientists))\n",
    "scientists"
   ]
  },
  {
   "cell_type": "code",
   "execution_count": 34,
   "id": "40484df4",
   "metadata": {},
   "outputs": [
    {
     "name": "stdout",
     "output_type": "stream",
     "text": [
      "<class 'pandas.core.series.Series'>\n",
      "max() = 90\n",
      "min() = 37\n",
      "sum() = 473\n",
      "mean() = 59.125\n",
      "count() = 8\n",
      "std() = 18.325918413937288\n"
     ]
    }
   ],
   "source": [
    "ages = scientists['Age']\n",
    "print(type(ages))\n",
    "ages\n",
    "\n",
    "print('max() = {}'.format(ages.max()))\n",
    "print('min() = {}'.format(ages.min()))\n",
    "print('sum() = {}'.format(ages.sum()))\n",
    "print('mean() = {}'.format(ages.mean()))\n",
    "print('count() = {}'.format(ages.count()))\n",
    "print('std() = {}'.format(ages.std()))"
   ]
  },
  {
   "cell_type": "markdown",
   "id": "5d53d6d1",
   "metadata": {},
   "source": [
    "브로드캐스팅  \n",
    "ages(나이 전체, 여러개) > ages.mean()(나이 평균, 1개)와 같이 시리즈나 데이터프레임의 모든 데이터에 대해 한 번에 연산하는 것을 브로드캐스팅이라 한다.  \n",
    "이 때, 여러개의 값을 가진 데이터를 벡터라 하고 단순 크기를 나타내는 데이터를 스칼라라 부른다."
   ]
  },
  {
   "cell_type": "code",
   "execution_count": 38,
   "id": "3ef7d985",
   "metadata": {},
   "outputs": [
    {
     "name": "stdout",
     "output_type": "stream",
     "text": [
      "1    61\n",
      "2    90\n",
      "3    66\n",
      "7    77\n",
      "Name: Age, dtype: int64\n"
     ]
    }
   ],
   "source": [
    "# 평균 나이보다 나이가 많은 사람의 나이 데이터를 추출한다.\n",
    "# print(ages > ages.mean()) # False, True, True, True, False, False, False, True\n",
    "# bool_value = ages > ages.mean()\n",
    "# print(bool_value)\n",
    "# print(ages[bool_value])\n",
    "print(ages[[False, True, True, True, False, False, False, True]])"
   ]
  },
  {
   "cell_type": "code",
   "execution_count": 39,
   "id": "76e786b2",
   "metadata": {},
   "outputs": [
    {
     "name": "stdout",
     "output_type": "stream",
     "text": [
      "1    61\n",
      "2    90\n",
      "3    66\n",
      "7    77\n",
      "Name: Age, dtype: int64\n"
     ]
    }
   ],
   "source": [
    "print(ages[ages > ages.mean()])"
   ]
  },
  {
   "cell_type": "code",
   "execution_count": null,
   "id": "2ad897bd",
   "metadata": {},
   "outputs": [],
   "source": []
  },
  {
   "cell_type": "code",
   "execution_count": null,
   "id": "ee828f97",
   "metadata": {},
   "outputs": [],
   "source": []
  },
  {
   "cell_type": "code",
   "execution_count": null,
   "id": "b7143b9d",
   "metadata": {},
   "outputs": [],
   "source": []
  }
 ],
 "metadata": {
  "kernelspec": {
   "display_name": "Python 3",
   "language": "python",
   "name": "python3"
  },
  "language_info": {
   "codemirror_mode": {
    "name": "ipython",
    "version": 3
   },
   "file_extension": ".py",
   "mimetype": "text/x-python",
   "name": "python",
   "nbconvert_exporter": "python",
   "pygments_lexer": "ipython3",
   "version": "3.6.8"
  }
 },
 "nbformat": 4,
 "nbformat_minor": 5
}
